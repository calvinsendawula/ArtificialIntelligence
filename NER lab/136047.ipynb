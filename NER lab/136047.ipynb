{
 "cells": [
  {
   "cell_type": "markdown",
   "metadata": {},
   "source": [
    "NLP\n",
    "- NLTK - !pip install nltk\n",
    "- Datasets - !pip install datasets\n",
    "- SPACY\n",
    "- Tensorflow\n",
    "- Pytorch\n",
    "- Transformers (HF)"
   ]
  },
  {
   "cell_type": "code",
   "execution_count": 1,
   "metadata": {},
   "outputs": [
    {
     "name": "stderr",
     "output_type": "stream",
     "text": [
      "[nltk_data] Downloading package stopwords to C:\\Users\\ALIENWARE\n",
      "[nltk_data]     M15\\AppData\\Roaming\\nltk_data...\n",
      "[nltk_data]   Unzipping corpora\\stopwords.zip.\n",
      "[nltk_data] Downloading package punkt to C:\\Users\\ALIENWARE\n",
      "[nltk_data]     M15\\AppData\\Roaming\\nltk_data...\n",
      "[nltk_data]   Unzipping tokenizers\\punkt.zip.\n"
     ]
    },
    {
     "data": {
      "text/plain": [
       "True"
      ]
     },
     "execution_count": 1,
     "metadata": {},
     "output_type": "execute_result"
    }
   ],
   "source": [
    "import nltk\n",
    "\n",
    "nltk.download('stopwords')\n",
    "nltk.download('punkt')"
   ]
  },
  {
   "cell_type": "code",
   "execution_count": 2,
   "metadata": {},
   "outputs": [
    {
     "name": "stderr",
     "output_type": "stream",
     "text": [
      "c:\\Users\\ALIENWARE M15\\AppData\\Local\\Programs\\Python\\Python39\\lib\\site-packages\\tqdm\\auto.py:22: TqdmWarning: IProgress not found. Please update jupyter and ipywidgets. See https://ipywidgets.readthedocs.io/en/stable/user_install.html\n",
      "  from .autonotebook import tqdm as notebook_tqdm\n",
      "Downloading builder script: 100%|██████████| 9.72k/9.72k [00:00<00:00, 2.42MB/s]\n",
      "Downloading metadata: 100%|██████████| 30.4k/30.4k [00:00<00:00, 97.3kB/s]\n",
      "Downloading readme: 100%|██████████| 17.1k/17.1k [00:00<00:00, 55.2kB/s]\n"
     ]
    },
    {
     "name": "stdout",
     "output_type": "stream",
     "text": [
      "Downloading and preparing dataset tweet_eval/emoji (download: 7.28 MiB, generated: 8.06 MiB, post-processed: Unknown size, total: 15.34 MiB) to C:/Users/ALIENWARE M15/.cache/huggingface/datasets/tweet_eval/emoji/1.1.0/12aee5282b8784f3e95459466db4cdf45c6bf49719c25cdb0743d71ed0410343...\n"
     ]
    },
    {
     "name": "stderr",
     "output_type": "stream",
     "text": [
      "Downloading data: 3.35MB [00:00, 6.85MB/s]/6 [00:00<?, ?it/s]\n",
      "Downloading data: 103kB [00:00, 5.22MB/s]                    .54s/it]\n",
      "Downloading data: 3.71MB [00:00, 6.17MB/s]/6 [00:03<00:05,  1.50s/it]\n",
      "Downloading data: 114kB [00:00, 4.81MB/s]                    .97s/it]\n",
      "Downloading data: 341kB [00:00, 2.79MB/s]4/6 [00:06<00:03,  1.57s/it]\n",
      "Downloading data: 11.4kB [00:00, 5.74MB/s]                   .32s/it]\n",
      "Downloading data files: 100%|██████████| 6/6 [00:08<00:00,  1.40s/it]\n",
      "Extracting data files: 100%|██████████| 6/6 [00:00<00:00, 1004.34it/s]\n",
      "                                                                                       \r"
     ]
    },
    {
     "name": "stdout",
     "output_type": "stream",
     "text": [
      "Dataset tweet_eval downloaded and prepared to C:/Users/ALIENWARE M15/.cache/huggingface/datasets/tweet_eval/emoji/1.1.0/12aee5282b8784f3e95459466db4cdf45c6bf49719c25cdb0743d71ed0410343. Subsequent calls will reuse this data.\n"
     ]
    },
    {
     "name": "stderr",
     "output_type": "stream",
     "text": [
      "100%|██████████| 3/3 [00:00<00:00, 107.22it/s]\n"
     ]
    }
   ],
   "source": [
    "from datasets import load_dataset\n",
    "\n",
    "dataset = load_dataset(\"tweet_eval\", \"emoji\")"
   ]
  },
  {
   "cell_type": "code",
   "execution_count": 3,
   "metadata": {},
   "outputs": [
    {
     "data": {
      "text/plain": [
       "DatasetDict({\n",
       "    train: Dataset({\n",
       "        features: ['text', 'label'],\n",
       "        num_rows: 45000\n",
       "    })\n",
       "    test: Dataset({\n",
       "        features: ['text', 'label'],\n",
       "        num_rows: 50000\n",
       "    })\n",
       "    validation: Dataset({\n",
       "        features: ['text', 'label'],\n",
       "        num_rows: 5000\n",
       "    })\n",
       "})"
      ]
     },
     "execution_count": 3,
     "metadata": {},
     "output_type": "execute_result"
    }
   ],
   "source": [
    "dataset"
   ]
  },
  {
   "cell_type": "code",
   "execution_count": 4,
   "metadata": {},
   "outputs": [
    {
     "data": {
      "text/plain": [
       "datasets.dataset_dict.DatasetDict"
      ]
     },
     "execution_count": 4,
     "metadata": {},
     "output_type": "execute_result"
    }
   ],
   "source": [
    "type(dataset)"
   ]
  },
  {
   "cell_type": "code",
   "execution_count": 5,
   "metadata": {},
   "outputs": [],
   "source": [
    "tr_text = dataset[\"train\"][\"text\"]\n",
    "tr_label = dataset[\"train\"][\"label\"]\n",
    "\n",
    "val_text = dataset[\"validation\"][\"text\"]\n",
    "val_label = dataset[\"validation\"][\"label\"]\n",
    "\n",
    "test_text = dataset[\"test\"][\"text\"]\n",
    "test_label = dataset[\"test\"][\"label\"]"
   ]
  },
  {
   "cell_type": "code",
   "execution_count": 7,
   "metadata": {},
   "outputs": [],
   "source": [
    "import pandas as pd\n",
    "\n",
    "df = pd.DataFrame()"
   ]
  },
  {
   "cell_type": "code",
   "execution_count": 8,
   "metadata": {},
   "outputs": [
    {
     "data": {
      "text/html": [
       "<div>\n",
       "<style scoped>\n",
       "    .dataframe tbody tr th:only-of-type {\n",
       "        vertical-align: middle;\n",
       "    }\n",
       "\n",
       "    .dataframe tbody tr th {\n",
       "        vertical-align: top;\n",
       "    }\n",
       "\n",
       "    .dataframe thead th {\n",
       "        text-align: right;\n",
       "    }\n",
       "</style>\n",
       "<table border=\"1\" class=\"dataframe\">\n",
       "  <thead>\n",
       "    <tr style=\"text-align: right;\">\n",
       "      <th></th>\n",
       "      <th>text</th>\n",
       "      <th>label</th>\n",
       "    </tr>\n",
       "  </thead>\n",
       "  <tbody>\n",
       "    <tr>\n",
       "      <th>0</th>\n",
       "      <td>Sunday afternoon walking through Venice in the...</td>\n",
       "      <td>12</td>\n",
       "    </tr>\n",
       "    <tr>\n",
       "      <th>1</th>\n",
       "      <td>Time for some BBQ and whiskey libations. Chomp...</td>\n",
       "      <td>19</td>\n",
       "    </tr>\n",
       "    <tr>\n",
       "      <th>2</th>\n",
       "      <td>Love love love all these people ️ ️ ️ #friends...</td>\n",
       "      <td>0</td>\n",
       "    </tr>\n",
       "    <tr>\n",
       "      <th>3</th>\n",
       "      <td>️ ️ ️ ️ @ Toys\"R\"Us</td>\n",
       "      <td>0</td>\n",
       "    </tr>\n",
       "    <tr>\n",
       "      <th>4</th>\n",
       "      <td>Man these are the funniest kids ever!! That fa...</td>\n",
       "      <td>2</td>\n",
       "    </tr>\n",
       "    <tr>\n",
       "      <th>5</th>\n",
       "      <td>#sandiego @ San Diego, California</td>\n",
       "      <td>11</td>\n",
       "    </tr>\n",
       "    <tr>\n",
       "      <th>6</th>\n",
       "      <td>My little ️ ️ ️ ️ ️ #ObsessedWithMyDog @ Cafe ...</td>\n",
       "      <td>0</td>\n",
       "    </tr>\n",
       "    <tr>\n",
       "      <th>7</th>\n",
       "      <td>More #tinyepic things #tinyepicwestern, this o...</td>\n",
       "      <td>19</td>\n",
       "    </tr>\n",
       "    <tr>\n",
       "      <th>8</th>\n",
       "      <td>Last night ️ @ Omnia Night Club At Caesars Palace</td>\n",
       "      <td>0</td>\n",
       "    </tr>\n",
       "    <tr>\n",
       "      <th>9</th>\n",
       "      <td>friendship at its finest. ....#pixar #toystory...</td>\n",
       "      <td>7</td>\n",
       "    </tr>\n",
       "  </tbody>\n",
       "</table>\n",
       "</div>"
      ],
      "text/plain": [
       "                                                text  label\n",
       "0  Sunday afternoon walking through Venice in the...     12\n",
       "1  Time for some BBQ and whiskey libations. Chomp...     19\n",
       "2  Love love love all these people ️ ️ ️ #friends...      0\n",
       "3                                ️ ️ ️ ️ @ Toys\"R\"Us      0\n",
       "4  Man these are the funniest kids ever!! That fa...      2\n",
       "5                  #sandiego @ San Diego, California     11\n",
       "6  My little ️ ️ ️ ️ ️ #ObsessedWithMyDog @ Cafe ...      0\n",
       "7  More #tinyepic things #tinyepicwestern, this o...     19\n",
       "8  Last night ️ @ Omnia Night Club At Caesars Palace      0\n",
       "9  friendship at its finest. ....#pixar #toystory...      7"
      ]
     },
     "execution_count": 8,
     "metadata": {},
     "output_type": "execute_result"
    }
   ],
   "source": [
    "df['text'] = tr_text + test_text + val_text\n",
    "df['label'] = tr_label + test_label + val_label\n",
    "df.head(10)"
   ]
  },
  {
   "cell_type": "code",
   "execution_count": 9,
   "metadata": {},
   "outputs": [
    {
     "data": {
      "text/plain": [
       "(100000, 2)"
      ]
     },
     "execution_count": 9,
     "metadata": {},
     "output_type": "execute_result"
    }
   ],
   "source": [
    "df.shape"
   ]
  },
  {
   "cell_type": "code",
   "execution_count": 10,
   "metadata": {},
   "outputs": [
    {
     "data": {
      "text/plain": [
       "0     21058\n",
       "1     10252\n",
       "2      9751\n",
       "4      6105\n",
       "7      5293\n",
       "3      4956\n",
       "6      4278\n",
       "18     4056\n",
       "5      3983\n",
       "10     3573\n",
       "17     3063\n",
       "11     3038\n",
       "8      3013\n",
       "9      2737\n",
       "14     2659\n",
       "16     2640\n",
       "12     2640\n",
       "19     2332\n",
       "15     2326\n",
       "13     2247\n",
       "Name: label, dtype: int64"
      ]
     },
     "execution_count": 10,
     "metadata": {},
     "output_type": "execute_result"
    }
   ],
   "source": [
    "df['label'].value_counts()"
   ]
  },
  {
   "cell_type": "code",
   "execution_count": 11,
   "metadata": {},
   "outputs": [
    {
     "data": {
      "text/html": [
       "<div>\n",
       "<style scoped>\n",
       "    .dataframe tbody tr th:only-of-type {\n",
       "        vertical-align: middle;\n",
       "    }\n",
       "\n",
       "    .dataframe tbody tr th {\n",
       "        vertical-align: top;\n",
       "    }\n",
       "\n",
       "    .dataframe thead th {\n",
       "        text-align: right;\n",
       "    }\n",
       "</style>\n",
       "<table border=\"1\" class=\"dataframe\">\n",
       "  <thead>\n",
       "    <tr style=\"text-align: right;\">\n",
       "      <th></th>\n",
       "      <th>text</th>\n",
       "      <th>label</th>\n",
       "    </tr>\n",
       "  </thead>\n",
       "  <tbody>\n",
       "    <tr>\n",
       "      <th>31</th>\n",
       "      <td>#Lunch @user best #Ribs in #SanDiego (at @user...</td>\n",
       "      <td>14</td>\n",
       "    </tr>\n",
       "    <tr>\n",
       "      <th>35</th>\n",
       "      <td>Surprised everyone by actually surviving a wee...</td>\n",
       "      <td>14</td>\n",
       "    </tr>\n",
       "    <tr>\n",
       "      <th>40</th>\n",
       "      <td>Stay classy #SanDiego (@ San Diego Internation...</td>\n",
       "      <td>14</td>\n",
       "    </tr>\n",
       "    <tr>\n",
       "      <th>74</th>\n",
       "      <td>@user hi from Tijuana B.C. See you soon</td>\n",
       "      <td>14</td>\n",
       "    </tr>\n",
       "    <tr>\n",
       "      <th>77</th>\n",
       "      <td>Birthday cheers with my favorite people!!#26ag...</td>\n",
       "      <td>14</td>\n",
       "    </tr>\n",
       "  </tbody>\n",
       "</table>\n",
       "</div>"
      ],
      "text/plain": [
       "                                                 text  label\n",
       "31  #Lunch @user best #Ribs in #SanDiego (at @user...     14\n",
       "35  Surprised everyone by actually surviving a wee...     14\n",
       "40  Stay classy #SanDiego (@ San Diego Internation...     14\n",
       "74            @user hi from Tijuana B.C. See you soon     14\n",
       "77  Birthday cheers with my favorite people!!#26ag...     14"
      ]
     },
     "execution_count": 11,
     "metadata": {},
     "output_type": "execute_result"
    }
   ],
   "source": [
    "df2 = df[df['label'].isin([14,17])]\n",
    "df2.head()"
   ]
  },
  {
   "cell_type": "code",
   "execution_count": 12,
   "metadata": {},
   "outputs": [
    {
     "data": {
      "text/plain": [
       "17    3063\n",
       "14    2659\n",
       "Name: label, dtype: int64"
      ]
     },
     "execution_count": 12,
     "metadata": {},
     "output_type": "execute_result"
    }
   ],
   "source": [
    "df2['label'].value_counts()"
   ]
  },
  {
   "cell_type": "markdown",
   "metadata": {},
   "source": [
    "Preprocessing"
   ]
  },
  {
   "cell_type": "code",
   "execution_count": 14,
   "metadata": {},
   "outputs": [
    {
     "name": "stdout",
     "output_type": "stream",
     "text": [
      "#Lunch @user best #Ribs in #SanDiego (at @user in San Diego, CA)\n"
     ]
    }
   ],
   "source": [
    "sample = df2['text'].iloc[0]\n",
    "print(sample)"
   ]
  },
  {
   "cell_type": "code",
   "execution_count": 15,
   "metadata": {},
   "outputs": [
    {
     "name": "stdout",
     "output_type": "stream",
     "text": [
      "#Lunch user best #Ribs in #SanDiego (at user in San Diego, CA)\n"
     ]
    }
   ],
   "source": [
    "print(str(sample).replace(\"@\", \"\"))"
   ]
  },
  {
   "cell_type": "code",
   "execution_count": 16,
   "metadata": {},
   "outputs": [
    {
     "name": "stdout",
     "output_type": "stream",
     "text": [
      "Lunch @user best Ribs in SanDiego (at @user in San Diego, CA)\n"
     ]
    }
   ],
   "source": [
    "print(str(sample).replace(\"#\", \"\"))"
   ]
  },
  {
   "cell_type": "markdown",
   "metadata": {},
   "source": [
    "Text Cleaning"
   ]
  },
  {
   "cell_type": "code",
   "execution_count": 17,
   "metadata": {},
   "outputs": [
    {
     "name": "stderr",
     "output_type": "stream",
     "text": [
      "C:\\Users\\ALIENWARE M15\\AppData\\Local\\Temp\\ipykernel_9244\\706671178.py:1: SettingWithCopyWarning: \n",
      "A value is trying to be set on a copy of a slice from a DataFrame.\n",
      "Try using .loc[row_indexer,col_indexer] = value instead\n",
      "\n",
      "See the caveats in the documentation: https://pandas.pydata.org/pandas-docs/stable/user_guide/indexing.html#returning-a-view-versus-a-copy\n",
      "  df2['text'] = df2['text'].str.replace(\"@\", \"\") # remove @\n",
      "C:\\Users\\ALIENWARE M15\\AppData\\Local\\Temp\\ipykernel_9244\\706671178.py:2: SettingWithCopyWarning: \n",
      "A value is trying to be set on a copy of a slice from a DataFrame.\n",
      "Try using .loc[row_indexer,col_indexer] = value instead\n",
      "\n",
      "See the caveats in the documentation: https://pandas.pydata.org/pandas-docs/stable/user_guide/indexing.html#returning-a-view-versus-a-copy\n",
      "  df2['text'] = df2['text'].str.replace(\"#\", \"\") # remove hashtags\n",
      "C:\\Users\\ALIENWARE M15\\AppData\\Local\\Temp\\ipykernel_9244\\706671178.py:3: FutureWarning: The default value of regex will change from True to False in a future version.\n",
      "  df2['text'] = df2['text'].str.replace(\"\\d+\", \"\") # remove numbers\n",
      "C:\\Users\\ALIENWARE M15\\AppData\\Local\\Temp\\ipykernel_9244\\706671178.py:3: SettingWithCopyWarning: \n",
      "A value is trying to be set on a copy of a slice from a DataFrame.\n",
      "Try using .loc[row_indexer,col_indexer] = value instead\n",
      "\n",
      "See the caveats in the documentation: https://pandas.pydata.org/pandas-docs/stable/user_guide/indexing.html#returning-a-view-versus-a-copy\n",
      "  df2['text'] = df2['text'].str.replace(\"\\d+\", \"\") # remove numbers\n",
      "C:\\Users\\ALIENWARE M15\\AppData\\Local\\Temp\\ipykernel_9244\\706671178.py:4: FutureWarning: The default value of regex will change from True to False in a future version.\n",
      "  df2['text'] = df2['text'].str.replace(\"http\\S+|www.\\S+\", \"\") # remove links\n",
      "C:\\Users\\ALIENWARE M15\\AppData\\Local\\Temp\\ipykernel_9244\\706671178.py:4: SettingWithCopyWarning: \n",
      "A value is trying to be set on a copy of a slice from a DataFrame.\n",
      "Try using .loc[row_indexer,col_indexer] = value instead\n",
      "\n",
      "See the caveats in the documentation: https://pandas.pydata.org/pandas-docs/stable/user_guide/indexing.html#returning-a-view-versus-a-copy\n",
      "  df2['text'] = df2['text'].str.replace(\"http\\S+|www.\\S+\", \"\") # remove links\n",
      "C:\\Users\\ALIENWARE M15\\AppData\\Local\\Temp\\ipykernel_9244\\706671178.py:5: SettingWithCopyWarning: \n",
      "A value is trying to be set on a copy of a slice from a DataFrame.\n",
      "Try using .loc[row_indexer,col_indexer] = value instead\n",
      "\n",
      "See the caveats in the documentation: https://pandas.pydata.org/pandas-docs/stable/user_guide/indexing.html#returning-a-view-versus-a-copy\n",
      "  df2['text'] = df2['text'].str.lower() # lower case\n"
     ]
    },
    {
     "data": {
      "text/html": [
       "<div>\n",
       "<style scoped>\n",
       "    .dataframe tbody tr th:only-of-type {\n",
       "        vertical-align: middle;\n",
       "    }\n",
       "\n",
       "    .dataframe tbody tr th {\n",
       "        vertical-align: top;\n",
       "    }\n",
       "\n",
       "    .dataframe thead th {\n",
       "        text-align: right;\n",
       "    }\n",
       "</style>\n",
       "<table border=\"1\" class=\"dataframe\">\n",
       "  <thead>\n",
       "    <tr style=\"text-align: right;\">\n",
       "      <th></th>\n",
       "      <th>text</th>\n",
       "      <th>label</th>\n",
       "    </tr>\n",
       "  </thead>\n",
       "  <tbody>\n",
       "    <tr>\n",
       "      <th>31</th>\n",
       "      <td>lunch user best ribs in sandiego (at user in s...</td>\n",
       "      <td>14</td>\n",
       "    </tr>\n",
       "    <tr>\n",
       "      <th>35</th>\n",
       "      <td>surprised everyone by actually surviving a wee...</td>\n",
       "      <td>14</td>\n",
       "    </tr>\n",
       "    <tr>\n",
       "      <th>40</th>\n",
       "      <td>stay classy sandiego ( san diego international...</td>\n",
       "      <td>14</td>\n",
       "    </tr>\n",
       "    <tr>\n",
       "      <th>74</th>\n",
       "      <td>user hi from tijuana b.c. see you soon</td>\n",
       "      <td>14</td>\n",
       "    </tr>\n",
       "    <tr>\n",
       "      <th>77</th>\n",
       "      <td>birthday cheers with my favorite people!!again...</td>\n",
       "      <td>14</td>\n",
       "    </tr>\n",
       "  </tbody>\n",
       "</table>\n",
       "</div>"
      ],
      "text/plain": [
       "                                                 text  label\n",
       "31  lunch user best ribs in sandiego (at user in s...     14\n",
       "35  surprised everyone by actually surviving a wee...     14\n",
       "40  stay classy sandiego ( san diego international...     14\n",
       "74             user hi from tijuana b.c. see you soon     14\n",
       "77  birthday cheers with my favorite people!!again...     14"
      ]
     },
     "execution_count": 17,
     "metadata": {},
     "output_type": "execute_result"
    }
   ],
   "source": [
    "df2['text'] = df2['text'].str.replace(\"@\", \"\") # remove @\n",
    "df2['text'] = df2['text'].str.replace(\"#\", \"\") # remove hashtags\n",
    "df2['text'] = df2['text'].str.replace(\"\\d+\", \"\") # remove numbers\n",
    "df2['text'] = df2['text'].str.replace(\"http\\S+|www.\\S+\", \"\") # remove links\n",
    "df2['text'] = df2['text'].str.lower() # lower case\n",
    "df2.head()"
   ]
  },
  {
   "cell_type": "markdown",
   "metadata": {},
   "source": [
    "Feature Extraction"
   ]
  },
  {
   "cell_type": "code",
   "execution_count": 18,
   "metadata": {},
   "outputs": [
    {
     "data": {
      "text/plain": [
       "(5722, 2)"
      ]
     },
     "execution_count": 18,
     "metadata": {},
     "output_type": "execute_result"
    }
   ],
   "source": [
    "df2.shape"
   ]
  },
  {
   "cell_type": "code",
   "execution_count": 19,
   "metadata": {},
   "outputs": [
    {
     "name": "stdout",
     "output_type": "stream",
     "text": [
      "(5722, 11801)\n"
     ]
    }
   ],
   "source": [
    "# Bag of Words\n",
    "from sklearn.feature_extraction.text import CountVectorizer\n",
    "bow = CountVectorizer()\n",
    "bow.fit(df2['text']) # creating vocabulary\n",
    "bow = bow.transform(df2['text']) # creating bag of words\n",
    "\n",
    "print(bow.shape)"
   ]
  },
  {
   "cell_type": "code",
   "execution_count": 32,
   "metadata": {},
   "outputs": [
    {
     "name": "stdout",
     "output_type": "stream",
     "text": [
      "(5722, 11668)\n"
     ]
    }
   ],
   "source": [
    "import nltk\n",
    "from nltk.corpus import stopwords\n",
    "stop = stopwords.words('english')\n",
    "\n",
    "# Tf Idf\n",
    "from sklearn.feature_extraction.text import TfidfVectorizer\n",
    "tfidf = TfidfVectorizer(\n",
    "    stop_words=stop,\n",
    "    ngram_range=(1, 1)\n",
    ")\n",
    "tfidf.fit(df2['text']) # creating vocabulary\n",
    "tfidf = tfidf.transform(df2['text']) # creating tfidf\n",
    "print(tfidf.shape)"
   ]
  },
  {
   "cell_type": "markdown",
   "metadata": {},
   "source": [
    "Modelling BoW"
   ]
  },
  {
   "cell_type": "code",
   "execution_count": 20,
   "metadata": {},
   "outputs": [
    {
     "name": "stdout",
     "output_type": "stream",
     "text": [
      "0.6724890829694323\n"
     ]
    }
   ],
   "source": [
    "from sklearn.model_selection import train_test_split as ts\n",
    "X_train, X_test, y_train, y_test = ts(bow, df2['label'], test_size=0.2, random_state=42)\n",
    "\n",
    "from sklearn.neighbors import KNeighborsClassifier\n",
    "\n",
    "knn = KNeighborsClassifier(n_neighbors=5)\n",
    "knn.fit(X_train, y_train)\n",
    "y_pred = knn.predict(X_test)\n",
    "\n",
    "from sklearn.metrics import accuracy_score as acc\n",
    "print(acc(y_test, y_pred))"
   ]
  },
  {
   "cell_type": "markdown",
   "metadata": {},
   "source": [
    "Modelling TF-IDF"
   ]
  },
  {
   "cell_type": "code",
   "execution_count": 30,
   "metadata": {},
   "outputs": [
    {
     "name": "stdout",
     "output_type": "stream",
     "text": [
      "0.4707423580786026\n"
     ]
    }
   ],
   "source": [
    "from sklearn.model_selection import train_test_split as ts\n",
    "X_train, X_test, y_train, y_test = ts(tfidf, df2['label'], test_size=0.2, random_state=42)\n",
    "\n",
    "from sklearn.neighbors import KNeighborsClassifier\n",
    "\n",
    "knn = KNeighborsClassifier(n_neighbors=5)\n",
    "knn.fit(X_train, y_train)\n",
    "y_pred = knn.predict(X_test)\n",
    "\n",
    "from sklearn.metrics import accuracy_score as acc\n",
    "print(acc(y_test, y_pred))"
   ]
  },
  {
   "cell_type": "code",
   "execution_count": 33,
   "metadata": {},
   "outputs": [
    {
     "name": "stdout",
     "output_type": "stream",
     "text": [
      "0.8078602620087336\n"
     ]
    }
   ],
   "source": [
    "# modelling TfIdf NB\n",
    "from sklearn.model_selection import train_test_split as ts\n",
    "X_train, X_test, y_train, y_test = ts(tfidf, df2['label'], test_size=0.2, random_state=42)\n",
    "\n",
    "from sklearn.naive_bayes import MultinomialNB as NB\n",
    "nb = NB()\n",
    "nb.fit(X_train, y_train)\n",
    "y_pred = nb.predict(X_test)\n",
    "\n",
    "from sklearn.metrics import accuracy_score as acc\n",
    "print(acc(y_test, y_pred))"
   ]
  }
 ],
 "metadata": {
  "kernelspec": {
   "display_name": "Python 3.9.13 64-bit",
   "language": "python",
   "name": "python3"
  },
  "language_info": {
   "codemirror_mode": {
    "name": "ipython",
    "version": 3
   },
   "file_extension": ".py",
   "mimetype": "text/x-python",
   "name": "python",
   "nbconvert_exporter": "python",
   "pygments_lexer": "ipython3",
   "version": "3.9.13"
  },
  "orig_nbformat": 4,
  "vscode": {
   "interpreter": {
    "hash": "329c62c3aef5c4ef86f435c2e2d159935916720ab781e825cd471833c4520a1c"
   }
  }
 },
 "nbformat": 4,
 "nbformat_minor": 2
}
