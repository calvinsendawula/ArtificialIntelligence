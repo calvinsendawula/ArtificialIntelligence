{
 "cells": [
  {
   "cell_type": "markdown",
   "metadata": {},
   "source": [
    "- BOW\n",
    "- TFIDF\n",
    "- Word2Vec\n",
    "    - Glove\n",
    "- Doc2Vec\n",
    "- Transformers"
   ]
  },
  {
   "cell_type": "code",
   "execution_count": 1,
   "metadata": {},
   "outputs": [
    {
     "name": "stdout",
     "output_type": "stream",
     "text": [
      "179\n"
     ]
    },
    {
     "name": "stderr",
     "output_type": "stream",
     "text": [
      "[nltk_data] Downloading package stopwords to C:\\Users\\ALIENWARE\n",
      "[nltk_data]     M15\\AppData\\Roaming\\nltk_data...\n",
      "[nltk_data]   Package stopwords is already up-to-date!\n"
     ]
    }
   ],
   "source": [
    "import nltk\n",
    "nltk.download('stopwords')\n",
    "from nltk.corpus import stopwords\n",
    "stop = stopwords.words('english')\n",
    "print(len(stop))"
   ]
  },
  {
   "cell_type": "code",
   "execution_count": 2,
   "metadata": {},
   "outputs": [],
   "source": [
    "import pandas as pd\n",
    "import warnings\n",
    "warnings.filterwarnings('ignore')\n",
    "from sentence_transformers import SentenceTransformer\n",
    "\n",
    "from sklearn.metrics.pairwise import cosine_similarity"
   ]
  },
  {
   "cell_type": "code",
   "execution_count": 3,
   "metadata": {},
   "outputs": [
    {
     "name": "stdout",
     "output_type": "stream",
     "text": [
      "(119453, 1)\n"
     ]
    },
    {
     "data": {
      "text/html": [
       "<div>\n",
       "<style scoped>\n",
       "    .dataframe tbody tr th:only-of-type {\n",
       "        vertical-align: middle;\n",
       "    }\n",
       "\n",
       "    .dataframe tbody tr th {\n",
       "        vertical-align: top;\n",
       "    }\n",
       "\n",
       "    .dataframe thead th {\n",
       "        text-align: right;\n",
       "    }\n",
       "</style>\n",
       "<table border=\"1\" class=\"dataframe\">\n",
       "  <thead>\n",
       "    <tr style=\"text-align: right;\">\n",
       "      <th></th>\n",
       "      <th>title</th>\n",
       "    </tr>\n",
       "  </thead>\n",
       "  <tbody>\n",
       "    <tr>\n",
       "      <th>0</th>\n",
       "      <td>Solving QBF Instances with Nested SAT Solvers.</td>\n",
       "    </tr>\n",
       "    <tr>\n",
       "      <th>1</th>\n",
       "      <td>Multiscale Manifold Learning.</td>\n",
       "    </tr>\n",
       "    <tr>\n",
       "      <th>2</th>\n",
       "      <td>Online Transfer Learning for Differential Diag...</td>\n",
       "    </tr>\n",
       "    <tr>\n",
       "      <th>3</th>\n",
       "      <td>Logic Programming in Assumption-Based Argument...</td>\n",
       "    </tr>\n",
       "    <tr>\n",
       "      <th>4</th>\n",
       "      <td>Role-Aware Conformity Modeling and Analysis in...</td>\n",
       "    </tr>\n",
       "  </tbody>\n",
       "</table>\n",
       "</div>"
      ],
      "text/plain": [
       "                                               title\n",
       "0     Solving QBF Instances with Nested SAT Solvers.\n",
       "1                      Multiscale Manifold Learning.\n",
       "2  Online Transfer Learning for Differential Diag...\n",
       "3  Logic Programming in Assumption-Based Argument...\n",
       "4  Role-Aware Conformity Modeling and Analysis in..."
      ]
     },
     "execution_count": 3,
     "metadata": {},
     "output_type": "execute_result"
    }
   ],
   "source": [
    "df = pd.read_csv('titles.csv')\n",
    "print(df.shape)\n",
    "df.head()"
   ]
  },
  {
   "cell_type": "code",
   "execution_count": null,
   "metadata": {},
   "outputs": [],
   "source": [
    "# If the csv isn't working, run this cell\n",
    "import pickle\n",
    "\n",
    "df2 = pd.DataFrame()\n",
    "with open('original_titles.pkl', 'rb') as f:\n",
    "    df2['title'] = pickle.load(f)\n",
    "\n",
    "df2.head()"
   ]
  },
  {
   "cell_type": "code",
   "execution_count": 19,
   "metadata": {},
   "outputs": [
    {
     "data": {
      "text/html": [
       "<div>\n",
       "<style scoped>\n",
       "    .dataframe tbody tr th:only-of-type {\n",
       "        vertical-align: middle;\n",
       "    }\n",
       "\n",
       "    .dataframe tbody tr th {\n",
       "        vertical-align: top;\n",
       "    }\n",
       "\n",
       "    .dataframe thead th {\n",
       "        text-align: right;\n",
       "    }\n",
       "</style>\n",
       "<table border=\"1\" class=\"dataframe\">\n",
       "  <thead>\n",
       "    <tr style=\"text-align: right;\">\n",
       "      <th></th>\n",
       "      <th>title</th>\n",
       "    </tr>\n",
       "  </thead>\n",
       "  <tbody>\n",
       "    <tr>\n",
       "      <th>0</th>\n",
       "      <td>Non-Linear Regression for Bag-of-Words Data vi...</td>\n",
       "    </tr>\n",
       "    <tr>\n",
       "      <th>1</th>\n",
       "      <td>Time-Aware Rank Aggregation for Microblog Search.</td>\n",
       "    </tr>\n",
       "    <tr>\n",
       "      <th>2</th>\n",
       "      <td>Weakly-supervised relation classification for ...</td>\n",
       "    </tr>\n",
       "    <tr>\n",
       "      <th>3</th>\n",
       "      <td>Tap control for headphones without sensors.</td>\n",
       "    </tr>\n",
       "    <tr>\n",
       "      <th>4</th>\n",
       "      <td>Processing High-Volume Stream Queries on a Sup...</td>\n",
       "    </tr>\n",
       "  </tbody>\n",
       "</table>\n",
       "</div>"
      ],
      "text/plain": [
       "                                               title\n",
       "0  Non-Linear Regression for Bag-of-Words Data vi...\n",
       "1  Time-Aware Rank Aggregation for Microblog Search.\n",
       "2  Weakly-supervised relation classification for ...\n",
       "3        Tap control for headphones without sensors.\n",
       "4  Processing High-Volume Stream Queries on a Sup..."
      ]
     },
     "execution_count": 19,
     "metadata": {},
     "output_type": "execute_result"
    }
   ],
   "source": [
    "sample = df.sample(50)\n",
    "sample = sample.reset_index(drop=True)\n",
    "sample.head()"
   ]
  },
  {
   "cell_type": "code",
   "execution_count": 20,
   "metadata": {},
   "outputs": [
    {
     "data": {
      "text/html": [
       "<div>\n",
       "<style scoped>\n",
       "    .dataframe tbody tr th:only-of-type {\n",
       "        vertical-align: middle;\n",
       "    }\n",
       "\n",
       "    .dataframe tbody tr th {\n",
       "        vertical-align: top;\n",
       "    }\n",
       "\n",
       "    .dataframe thead th {\n",
       "        text-align: right;\n",
       "    }\n",
       "</style>\n",
       "<table border=\"1\" class=\"dataframe\">\n",
       "  <thead>\n",
       "    <tr style=\"text-align: right;\">\n",
       "      <th></th>\n",
       "      <th>title</th>\n",
       "      <th>text</th>\n",
       "    </tr>\n",
       "  </thead>\n",
       "  <tbody>\n",
       "    <tr>\n",
       "      <th>0</th>\n",
       "      <td>Non-Linear Regression for Bag-of-Words Data vi...</td>\n",
       "      <td>non linear regression bag words data via gauss...</td>\n",
       "    </tr>\n",
       "    <tr>\n",
       "      <th>1</th>\n",
       "      <td>Time-Aware Rank Aggregation for Microblog Search.</td>\n",
       "      <td>time aware rank aggregation microblog search</td>\n",
       "    </tr>\n",
       "    <tr>\n",
       "      <th>2</th>\n",
       "      <td>Weakly-supervised relation classification for ...</td>\n",
       "      <td>weakly supervised relation classification info...</td>\n",
       "    </tr>\n",
       "    <tr>\n",
       "      <th>3</th>\n",
       "      <td>Tap control for headphones without sensors.</td>\n",
       "      <td>tap control headphones without sensors</td>\n",
       "    </tr>\n",
       "    <tr>\n",
       "      <th>4</th>\n",
       "      <td>Processing High-Volume Stream Queries on a Sup...</td>\n",
       "      <td>processing high volume stream queries supercom...</td>\n",
       "    </tr>\n",
       "  </tbody>\n",
       "</table>\n",
       "</div>"
      ],
      "text/plain": [
       "                                               title  \\\n",
       "0  Non-Linear Regression for Bag-of-Words Data vi...   \n",
       "1  Time-Aware Rank Aggregation for Microblog Search.   \n",
       "2  Weakly-supervised relation classification for ...   \n",
       "3        Tap control for headphones without sensors.   \n",
       "4  Processing High-Volume Stream Queries on a Sup...   \n",
       "\n",
       "                                                text  \n",
       "0  non linear regression bag words data via gauss...  \n",
       "1       time aware rank aggregation microblog search  \n",
       "2  weakly supervised relation classification info...  \n",
       "3             tap control headphones without sensors  \n",
       "4  processing high volume stream queries supercom...  "
      ]
     },
     "execution_count": 20,
     "metadata": {},
     "output_type": "execute_result"
    }
   ],
   "source": [
    "# Cleaning the data\n",
    "sample['text'] = sample['title'].str.replace('[^a-zA-Z]', ' ') # Remove punctuation\n",
    "sample['text'] = sample['text'].str.lower() # Lowercase\n",
    "sample['text'] = sample['text'].apply(lambda x: \" \".join([word for word in x.split() if word not in (stop)])) # Remove stopwords\n",
    "sample.head()"
   ]
  },
  {
   "cell_type": "code",
   "execution_count": 6,
   "metadata": {},
   "outputs": [
    {
     "name": "stderr",
     "output_type": "stream",
     "text": [
      "Downloading: 100%|██████████| 737/737 [00:00<00:00, 185kB/s]\n",
      "Downloading: 100%|██████████| 190/190 [00:00<00:00, 38.0kB/s]\n",
      "Downloading: 100%|██████████| 11.5k/11.5k [00:00<00:00, 1.65MB/s]\n",
      "Downloading: 100%|██████████| 612/612 [00:00<00:00, 124kB/s]\n",
      "Downloading: 100%|██████████| 116/116 [00:00<00:00, 116kB/s]\n",
      "Downloading: 100%|██████████| 25.5k/25.5k [00:00<00:00, 82.2kB/s]\n",
      "Downloading: 100%|██████████| 90.9M/90.9M [00:25<00:00, 3.53MB/s]\n",
      "Downloading: 100%|██████████| 53.0/53.0 [00:00<00:00, 13.1kB/s]\n",
      "Downloading: 100%|██████████| 112/112 [00:00<00:00, 18.7kB/s]\n",
      "Downloading: 100%|██████████| 466k/466k [00:01<00:00, 295kB/s]  \n",
      "Downloading: 100%|██████████| 383/383 [00:00<00:00, 95.2kB/s]\n",
      "Downloading: 100%|██████████| 13.8k/13.8k [00:00<00:00, 44.5kB/s]\n",
      "Downloading: 100%|██████████| 232k/232k [00:01<00:00, 187kB/s]  \n",
      "Downloading: 100%|██████████| 349/349 [00:00<00:00, 172kB/s]\n"
     ]
    }
   ],
   "source": [
    "model = SentenceTransformer('sentence-transformers/multi-qa-MiniLM-L6-cos-v1')"
   ]
  },
  {
   "cell_type": "code",
   "execution_count": 21,
   "metadata": {},
   "outputs": [
    {
     "data": {
      "text/html": [
       "<div>\n",
       "<style scoped>\n",
       "    .dataframe tbody tr th:only-of-type {\n",
       "        vertical-align: middle;\n",
       "    }\n",
       "\n",
       "    .dataframe tbody tr th {\n",
       "        vertical-align: top;\n",
       "    }\n",
       "\n",
       "    .dataframe thead th {\n",
       "        text-align: right;\n",
       "    }\n",
       "</style>\n",
       "<table border=\"1\" class=\"dataframe\">\n",
       "  <thead>\n",
       "    <tr style=\"text-align: right;\">\n",
       "      <th></th>\n",
       "      <th>title</th>\n",
       "      <th>text</th>\n",
       "      <th>features</th>\n",
       "    </tr>\n",
       "  </thead>\n",
       "  <tbody>\n",
       "    <tr>\n",
       "      <th>0</th>\n",
       "      <td>Non-Linear Regression for Bag-of-Words Data vi...</td>\n",
       "      <td>non linear regression bag words data via gauss...</td>\n",
       "      <td>[0.005292843, -0.055277072, -0.032679874, -0.0...</td>\n",
       "    </tr>\n",
       "    <tr>\n",
       "      <th>1</th>\n",
       "      <td>Time-Aware Rank Aggregation for Microblog Search.</td>\n",
       "      <td>time aware rank aggregation microblog search</td>\n",
       "      <td>[0.013465883, -0.055515103, -0.035684034, -0.0...</td>\n",
       "    </tr>\n",
       "    <tr>\n",
       "      <th>2</th>\n",
       "      <td>Weakly-supervised relation classification for ...</td>\n",
       "      <td>weakly supervised relation classification info...</td>\n",
       "      <td>[-0.0033559168, 0.05058709, -0.09418492, -0.02...</td>\n",
       "    </tr>\n",
       "    <tr>\n",
       "      <th>3</th>\n",
       "      <td>Tap control for headphones without sensors.</td>\n",
       "      <td>tap control headphones without sensors</td>\n",
       "      <td>[0.054999277, 0.018125866, 0.0070430795, -0.00...</td>\n",
       "    </tr>\n",
       "    <tr>\n",
       "      <th>4</th>\n",
       "      <td>Processing High-Volume Stream Queries on a Sup...</td>\n",
       "      <td>processing high volume stream queries supercom...</td>\n",
       "      <td>[0.03355885, -0.045568187, -0.064688735, -0.05...</td>\n",
       "    </tr>\n",
       "  </tbody>\n",
       "</table>\n",
       "</div>"
      ],
      "text/plain": [
       "                                               title  \\\n",
       "0  Non-Linear Regression for Bag-of-Words Data vi...   \n",
       "1  Time-Aware Rank Aggregation for Microblog Search.   \n",
       "2  Weakly-supervised relation classification for ...   \n",
       "3        Tap control for headphones without sensors.   \n",
       "4  Processing High-Volume Stream Queries on a Sup...   \n",
       "\n",
       "                                                text  \\\n",
       "0  non linear regression bag words data via gauss...   \n",
       "1       time aware rank aggregation microblog search   \n",
       "2  weakly supervised relation classification info...   \n",
       "3             tap control headphones without sensors   \n",
       "4  processing high volume stream queries supercom...   \n",
       "\n",
       "                                            features  \n",
       "0  [0.005292843, -0.055277072, -0.032679874, -0.0...  \n",
       "1  [0.013465883, -0.055515103, -0.035684034, -0.0...  \n",
       "2  [-0.0033559168, 0.05058709, -0.09418492, -0.02...  \n",
       "3  [0.054999277, 0.018125866, 0.0070430795, -0.00...  \n",
       "4  [0.03355885, -0.045568187, -0.064688735, -0.05...  "
      ]
     },
     "execution_count": 21,
     "metadata": {},
     "output_type": "execute_result"
    }
   ],
   "source": [
    "features = model.encode(sample['text'])\n",
    "sample['features'] = list(features)\n",
    "sample.head()"
   ]
  },
  {
   "cell_type": "code",
   "execution_count": 23,
   "metadata": {},
   "outputs": [],
   "source": [
    "def search(query_text):\n",
    "    query_feature = model.encode([query_text])\n",
    "    sample['similarity'] = sample['features'].apply(lambda x: cosine_similarity([x], query_feature)[0][0]) \n",
    "    sorted = sample.sort_values(by='similarity', ascending=False)\n",
    "    return sorted.head(10)"
   ]
  },
  {
   "cell_type": "code",
   "execution_count": null,
   "metadata": {},
   "outputs": [],
   "source": [
    "search('deep learning')"
   ]
  },
  {
   "cell_type": "code",
   "execution_count": null,
   "metadata": {},
   "outputs": [],
   "source": [
    "search('Knowledge Bases for Web Content Analytics.')"
   ]
  },
  {
   "cell_type": "code",
   "execution_count": null,
   "metadata": {},
   "outputs": [],
   "source": [
    "search(str(input('Enter a query: ')))"
   ]
  },
  {
   "cell_type": "code",
   "execution_count": 33,
   "metadata": {},
   "outputs": [],
   "source": [
    "def results(Google_Search_Engine_Clone):\n",
    "    query_feature = model.encode([Google_Search_Engine_Clone])\n",
    "    sample['similarity'] = sample['features'].apply(lambda x: cosine_similarity([x], query_feature)[0][0]) \n",
    "    sorted = sample.sort_values(by='similarity', ascending=False)\n",
    "    result = sorted['title'].head(5)\n",
    "    return list(result)"
   ]
  },
  {
   "cell_type": "code",
   "execution_count": 30,
   "metadata": {},
   "outputs": [
    {
     "data": {
      "text/plain": [
       "['Towards a Mathematical Theory of Primal Sketch and Sketchability.',\n",
       " 'Open Problem: Shifting Experts on Easy Data.',\n",
       " 'A New Approach to Online Scheduling: Approximating the Optimal Competitive Ratio.',\n",
       " 'Understanding finger input above desktop devices.',\n",
       " 'Private approximation of search problems.']"
      ]
     },
     "execution_count": 30,
     "metadata": {},
     "output_type": "execute_result"
    }
   ],
   "source": [
    "results(\"Maths\")"
   ]
  },
  {
   "cell_type": "code",
   "execution_count": 34,
   "metadata": {},
   "outputs": [
    {
     "name": "stdout",
     "output_type": "stream",
     "text": [
      "Running on local URL:  http://127.0.0.1:7862\n",
      "Running on public URL: https://0c3eb6bb1735644c.gradio.app\n",
      "\n",
      "This share link expires in 72 hours. For free permanent hosting and GPU upgrades (NEW!), check out Spaces: https://huggingface.co/spaces\n"
     ]
    },
    {
     "data": {
      "text/html": [
       "<div><iframe src=\"https://0c3eb6bb1735644c.gradio.app\" width=\"100%\" height=\"500\" allow=\"autoplay; camera; microphone; clipboard-read; clipboard-write;\" frameborder=\"0\" allowfullscreen></iframe></div>"
      ],
      "text/plain": [
       "<IPython.core.display.HTML object>"
      ]
     },
     "metadata": {},
     "output_type": "display_data"
    },
    {
     "data": {
      "text/plain": [
       "(<gradio.routes.App at 0x1c69eb33190>,\n",
       " 'http://127.0.0.1:7862/',\n",
       " 'https://0c3eb6bb1735644c.gradio.app')"
      ]
     },
     "execution_count": 34,
     "metadata": {},
     "output_type": "execute_result"
    }
   ],
   "source": [
    "import gradio as gr\n",
    "\n",
    "u_interface = gr.Interface(fn=results, inputs=\"text\", outputs=\"text\")\n",
    "u_interface.launch(share=True)"
   ]
  }
 ],
 "metadata": {
  "kernelspec": {
   "display_name": "Python 3.9.13 64-bit",
   "language": "python",
   "name": "python3"
  },
  "language_info": {
   "codemirror_mode": {
    "name": "ipython",
    "version": 3
   },
   "file_extension": ".py",
   "mimetype": "text/x-python",
   "name": "python",
   "nbconvert_exporter": "python",
   "pygments_lexer": "ipython3",
   "version": "3.9.13"
  },
  "orig_nbformat": 4,
  "vscode": {
   "interpreter": {
    "hash": "329c62c3aef5c4ef86f435c2e2d159935916720ab781e825cd471833c4520a1c"
   }
  }
 },
 "nbformat": 4,
 "nbformat_minor": 2
}
