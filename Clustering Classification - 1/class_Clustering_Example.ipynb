{
  "cells": [
    {
      "cell_type": "markdown",
      "metadata": {
        "id": "kjw1W99-zU02"
      },
      "source": [
        "## Illustration of some classical unsupervised algorithms\n",
        "\n",
        "Some of the algorithms are:\n",
        "\n",
        "* k-Means\n",
        "* Principle Component Analysis\n",
        "* Independent Component Analysis\n",
        "* Apriori algorithm\n"
      ]
    },
    {
      "cell_type": "markdown",
      "metadata": {
        "id": "5eYmA3SHzU06"
      },
      "source": [
        "### k-Means"
      ]
    },
    {
      "cell_type": "markdown",
      "metadata": {
        "id": "-KBBWlVLzU07"
      },
      "source": [
        "k-Means is a simple algorithm that aims at finding clusters in a dataset. It is a centroid-based algorithm, which works iteratively to assign each data point to one of k groups based on the features that are provided. Data points are clustered based on feature similarity. The results of the k-Means clustering algorithm are:\n",
        "\n",
        "* The centroids of the k clusters, which can be used to label new data\n",
        "* Labels for the training data (each data point is assigned to a single cluster)\n",
        "\n",
        "\n",
        "The datset used can be found [here](https://www.kaggle.com/datasets/shwetabh123/mall-customers)."
      ]
    },
    {
      "cell_type": "code",
      "execution_count": 1,
      "metadata": {
        "colab": {
          "base_uri": "https://localhost:8080/",
          "height": 214
        },
        "id": "1hRiVMAdzU08",
        "outputId": "762ab201-a294-42ab-f3e3-1106c23f0a0f"
      },
      "outputs": [
        {
          "data": {
            "text/html": [
              "<div>\n",
              "<style scoped>\n",
              "    .dataframe tbody tr th:only-of-type {\n",
              "        vertical-align: middle;\n",
              "    }\n",
              "\n",
              "    .dataframe tbody tr th {\n",
              "        vertical-align: top;\n",
              "    }\n",
              "\n",
              "    .dataframe thead th {\n",
              "        text-align: right;\n",
              "    }\n",
              "</style>\n",
              "<table border=\"1\" class=\"dataframe\">\n",
              "  <thead>\n",
              "    <tr style=\"text-align: right;\">\n",
              "      <th></th>\n",
              "      <th>CustomerID</th>\n",
              "      <th>Gender</th>\n",
              "      <th>Age</th>\n",
              "      <th>Annual Income (k$)</th>\n",
              "      <th>Spending Score (1-100)</th>\n",
              "    </tr>\n",
              "  </thead>\n",
              "  <tbody>\n",
              "    <tr>\n",
              "      <th>0</th>\n",
              "      <td>1</td>\n",
              "      <td>Male</td>\n",
              "      <td>19</td>\n",
              "      <td>15</td>\n",
              "      <td>39</td>\n",
              "    </tr>\n",
              "    <tr>\n",
              "      <th>1</th>\n",
              "      <td>2</td>\n",
              "      <td>Male</td>\n",
              "      <td>21</td>\n",
              "      <td>15</td>\n",
              "      <td>81</td>\n",
              "    </tr>\n",
              "    <tr>\n",
              "      <th>2</th>\n",
              "      <td>3</td>\n",
              "      <td>Female</td>\n",
              "      <td>20</td>\n",
              "      <td>16</td>\n",
              "      <td>6</td>\n",
              "    </tr>\n",
              "    <tr>\n",
              "      <th>3</th>\n",
              "      <td>4</td>\n",
              "      <td>Female</td>\n",
              "      <td>23</td>\n",
              "      <td>16</td>\n",
              "      <td>77</td>\n",
              "    </tr>\n",
              "    <tr>\n",
              "      <th>4</th>\n",
              "      <td>5</td>\n",
              "      <td>Female</td>\n",
              "      <td>31</td>\n",
              "      <td>17</td>\n",
              "      <td>40</td>\n",
              "    </tr>\n",
              "  </tbody>\n",
              "</table>\n",
              "</div>"
            ],
            "text/plain": [
              "   CustomerID  Gender  Age  Annual Income (k$)  Spending Score (1-100)\n",
              "0           1    Male   19                  15                      39\n",
              "1           2    Male   21                  15                      81\n",
              "2           3  Female   20                  16                       6\n",
              "3           4  Female   23                  16                      77\n",
              "4           5  Female   31                  17                      40"
            ]
          },
          "execution_count": 1,
          "metadata": {},
          "output_type": "execute_result"
        }
      ],
      "source": [
        "import pandas as pd\n",
        "import numpy as np\n",
        "import matplotlib.pyplot as plt\n",
        "import seaborn as sns\n",
        "from sklearn.cluster import KMeans\n",
        "from sklearn.preprocessing import StandardScaler\n",
        "\n",
        "# Read the data\n",
        "df = pd.read_csv('Mall_Customers.csv')\n",
        "df.head()\n"
      ]
    },
    {
      "cell_type": "code",
      "execution_count": 2,
      "metadata": {
        "id": "0tXGhymDzU0_"
      },
      "outputs": [],
      "source": [
        "# Drop the CustomerID column\n",
        "df.drop('CustomerID', axis=1, inplace=True)"
      ]
    },
    {
      "cell_type": "code",
      "execution_count": 3,
      "metadata": {
        "colab": {
          "base_uri": "https://localhost:8080/",
          "height": 424
        },
        "id": "1slrZ_C70qCG",
        "outputId": "869fe8e6-03ab-4492-c046-9e689fedd1a7"
      },
      "outputs": [
        {
          "data": {
            "text/html": [
              "<div>\n",
              "<style scoped>\n",
              "    .dataframe tbody tr th:only-of-type {\n",
              "        vertical-align: middle;\n",
              "    }\n",
              "\n",
              "    .dataframe tbody tr th {\n",
              "        vertical-align: top;\n",
              "    }\n",
              "\n",
              "    .dataframe thead th {\n",
              "        text-align: right;\n",
              "    }\n",
              "</style>\n",
              "<table border=\"1\" class=\"dataframe\">\n",
              "  <thead>\n",
              "    <tr style=\"text-align: right;\">\n",
              "      <th></th>\n",
              "      <th>Gender</th>\n",
              "      <th>Age</th>\n",
              "      <th>Annual Income (k$)</th>\n",
              "      <th>Spending Score (1-100)</th>\n",
              "    </tr>\n",
              "  </thead>\n",
              "  <tbody>\n",
              "    <tr>\n",
              "      <th>0</th>\n",
              "      <td>Male</td>\n",
              "      <td>19</td>\n",
              "      <td>15</td>\n",
              "      <td>39</td>\n",
              "    </tr>\n",
              "    <tr>\n",
              "      <th>1</th>\n",
              "      <td>Male</td>\n",
              "      <td>21</td>\n",
              "      <td>15</td>\n",
              "      <td>81</td>\n",
              "    </tr>\n",
              "    <tr>\n",
              "      <th>2</th>\n",
              "      <td>Female</td>\n",
              "      <td>20</td>\n",
              "      <td>16</td>\n",
              "      <td>6</td>\n",
              "    </tr>\n",
              "    <tr>\n",
              "      <th>3</th>\n",
              "      <td>Female</td>\n",
              "      <td>23</td>\n",
              "      <td>16</td>\n",
              "      <td>77</td>\n",
              "    </tr>\n",
              "    <tr>\n",
              "      <th>4</th>\n",
              "      <td>Female</td>\n",
              "      <td>31</td>\n",
              "      <td>17</td>\n",
              "      <td>40</td>\n",
              "    </tr>\n",
              "    <tr>\n",
              "      <th>...</th>\n",
              "      <td>...</td>\n",
              "      <td>...</td>\n",
              "      <td>...</td>\n",
              "      <td>...</td>\n",
              "    </tr>\n",
              "    <tr>\n",
              "      <th>195</th>\n",
              "      <td>Female</td>\n",
              "      <td>35</td>\n",
              "      <td>120</td>\n",
              "      <td>79</td>\n",
              "    </tr>\n",
              "    <tr>\n",
              "      <th>196</th>\n",
              "      <td>Female</td>\n",
              "      <td>45</td>\n",
              "      <td>126</td>\n",
              "      <td>28</td>\n",
              "    </tr>\n",
              "    <tr>\n",
              "      <th>197</th>\n",
              "      <td>Male</td>\n",
              "      <td>32</td>\n",
              "      <td>126</td>\n",
              "      <td>74</td>\n",
              "    </tr>\n",
              "    <tr>\n",
              "      <th>198</th>\n",
              "      <td>Male</td>\n",
              "      <td>32</td>\n",
              "      <td>137</td>\n",
              "      <td>18</td>\n",
              "    </tr>\n",
              "    <tr>\n",
              "      <th>199</th>\n",
              "      <td>Male</td>\n",
              "      <td>30</td>\n",
              "      <td>137</td>\n",
              "      <td>83</td>\n",
              "    </tr>\n",
              "  </tbody>\n",
              "</table>\n",
              "<p>200 rows × 4 columns</p>\n",
              "</div>"
            ],
            "text/plain": [
              "     Gender  Age  Annual Income (k$)  Spending Score (1-100)\n",
              "0      Male   19                  15                      39\n",
              "1      Male   21                  15                      81\n",
              "2    Female   20                  16                       6\n",
              "3    Female   23                  16                      77\n",
              "4    Female   31                  17                      40\n",
              "..      ...  ...                 ...                     ...\n",
              "195  Female   35                 120                      79\n",
              "196  Female   45                 126                      28\n",
              "197    Male   32                 126                      74\n",
              "198    Male   32                 137                      18\n",
              "199    Male   30                 137                      83\n",
              "\n",
              "[200 rows x 4 columns]"
            ]
          },
          "execution_count": 3,
          "metadata": {},
          "output_type": "execute_result"
        }
      ],
      "source": [
        "df"
      ]
    },
    {
      "cell_type": "code",
      "execution_count": 4,
      "metadata": {
        "id": "dFNocV9czU1A"
      },
      "outputs": [],
      "source": [
        "# encode columns\n",
        "from sklearn.preprocessing import LabelEncoder\n",
        "le = LabelEncoder()\n",
        "\n",
        "# fit and transform 'Gender' column\n",
        "df['Gender'] = le.fit_transform(df['Gender'])"
      ]
    },
    {
      "cell_type": "code",
      "execution_count": 5,
      "metadata": {},
      "outputs": [
        {
          "data": {
            "text/html": [
              "<div>\n",
              "<style scoped>\n",
              "    .dataframe tbody tr th:only-of-type {\n",
              "        vertical-align: middle;\n",
              "    }\n",
              "\n",
              "    .dataframe tbody tr th {\n",
              "        vertical-align: top;\n",
              "    }\n",
              "\n",
              "    .dataframe thead th {\n",
              "        text-align: right;\n",
              "    }\n",
              "</style>\n",
              "<table border=\"1\" class=\"dataframe\">\n",
              "  <thead>\n",
              "    <tr style=\"text-align: right;\">\n",
              "      <th></th>\n",
              "      <th>Gender</th>\n",
              "      <th>Age</th>\n",
              "      <th>Annual Income (k$)</th>\n",
              "      <th>Spending Score (1-100)</th>\n",
              "    </tr>\n",
              "  </thead>\n",
              "  <tbody>\n",
              "    <tr>\n",
              "      <th>0</th>\n",
              "      <td>1</td>\n",
              "      <td>19</td>\n",
              "      <td>15</td>\n",
              "      <td>39</td>\n",
              "    </tr>\n",
              "    <tr>\n",
              "      <th>1</th>\n",
              "      <td>1</td>\n",
              "      <td>21</td>\n",
              "      <td>15</td>\n",
              "      <td>81</td>\n",
              "    </tr>\n",
              "    <tr>\n",
              "      <th>2</th>\n",
              "      <td>0</td>\n",
              "      <td>20</td>\n",
              "      <td>16</td>\n",
              "      <td>6</td>\n",
              "    </tr>\n",
              "    <tr>\n",
              "      <th>3</th>\n",
              "      <td>0</td>\n",
              "      <td>23</td>\n",
              "      <td>16</td>\n",
              "      <td>77</td>\n",
              "    </tr>\n",
              "    <tr>\n",
              "      <th>4</th>\n",
              "      <td>0</td>\n",
              "      <td>31</td>\n",
              "      <td>17</td>\n",
              "      <td>40</td>\n",
              "    </tr>\n",
              "    <tr>\n",
              "      <th>...</th>\n",
              "      <td>...</td>\n",
              "      <td>...</td>\n",
              "      <td>...</td>\n",
              "      <td>...</td>\n",
              "    </tr>\n",
              "    <tr>\n",
              "      <th>195</th>\n",
              "      <td>0</td>\n",
              "      <td>35</td>\n",
              "      <td>120</td>\n",
              "      <td>79</td>\n",
              "    </tr>\n",
              "    <tr>\n",
              "      <th>196</th>\n",
              "      <td>0</td>\n",
              "      <td>45</td>\n",
              "      <td>126</td>\n",
              "      <td>28</td>\n",
              "    </tr>\n",
              "    <tr>\n",
              "      <th>197</th>\n",
              "      <td>1</td>\n",
              "      <td>32</td>\n",
              "      <td>126</td>\n",
              "      <td>74</td>\n",
              "    </tr>\n",
              "    <tr>\n",
              "      <th>198</th>\n",
              "      <td>1</td>\n",
              "      <td>32</td>\n",
              "      <td>137</td>\n",
              "      <td>18</td>\n",
              "    </tr>\n",
              "    <tr>\n",
              "      <th>199</th>\n",
              "      <td>1</td>\n",
              "      <td>30</td>\n",
              "      <td>137</td>\n",
              "      <td>83</td>\n",
              "    </tr>\n",
              "  </tbody>\n",
              "</table>\n",
              "<p>200 rows × 4 columns</p>\n",
              "</div>"
            ],
            "text/plain": [
              "     Gender  Age  Annual Income (k$)  Spending Score (1-100)\n",
              "0         1   19                  15                      39\n",
              "1         1   21                  15                      81\n",
              "2         0   20                  16                       6\n",
              "3         0   23                  16                      77\n",
              "4         0   31                  17                      40\n",
              "..      ...  ...                 ...                     ...\n",
              "195       0   35                 120                      79\n",
              "196       0   45                 126                      28\n",
              "197       1   32                 126                      74\n",
              "198       1   32                 137                      18\n",
              "199       1   30                 137                      83\n",
              "\n",
              "[200 rows x 4 columns]"
            ]
          },
          "execution_count": 5,
          "metadata": {},
          "output_type": "execute_result"
        }
      ],
      "source": [
        "df"
      ]
    },
    {
      "cell_type": "code",
      "execution_count": 15,
      "metadata": {},
      "outputs": [
        {
          "name": "stdout",
          "output_type": "stream",
          "text": [
            "[[ 1.12815215 -0.39989994  1.01344075  1.26040667 -0.19167109]\n",
            " [-0.88640526  1.06068509 -0.23342726 -0.06096423  1.31163158]\n",
            " [-0.88640526  0.35421988  1.24912183 -1.14745442 -1.69497376]\n",
            " [-0.88640526 -0.82859324 -0.0960542  -0.13098057  0.62534123]\n",
            " [ 1.12815215  1.33075947 -0.48486081 -0.42786906 -0.94332243]\n",
            " [-0.88640526 -0.93245435 -1.29459798  1.12360689  0.55998025]\n",
            " [ 1.12815215 -1.02205127 -0.75821082  0.43783969 -0.22435158]\n",
            " [ 1.12815215 -0.02700694  0.96701244 -1.39716754 -1.45761018]\n",
            " [-0.88640526  0.19294198 -1.2985827  -1.14553467  1.31163158]\n",
            " [-0.88640526 -0.47793198  0.97284787  1.22158511  0.55998025]]\n"
          ]
        }
      ],
      "source": [
        "# RUN EITHER THIS CELL OR THE NEXT ONE, NOT BOTH\n",
        "# perform scaling\n",
        "scaler = StandardScaler()   \n",
        "scaled_df = scaler.fit_transform(df)\n",
        "\n",
        "# Create 10 clusters (any number more than 3 is fine)\n",
        "kmeans = KMeans(n_clusters=10)\n",
        "\n",
        "# Fit the model\n",
        "kmeans.fit(scaled_df)\n",
        "\n",
        "# Get the cluster centroids\n",
        "print(kmeans.cluster_centers_)"
      ]
    },
    {
      "cell_type": "code",
      "execution_count": 50,
      "metadata": {
        "colab": {
          "base_uri": "https://localhost:8080/"
        },
        "id": "b_ohW0FBzU1B",
        "outputId": "b682d51f-066c-4491-eaff-baaa2381569f"
      },
      "outputs": [
        {
          "name": "stdout",
          "output_type": "stream",
          "text": [
            "[[  0.41666667  48.75        24.58333333   9.58333333   4.25      ]\n",
            " [  0.45454545  32.45454545 108.18181818  82.72727273   4.27272727]\n",
            " [  0.34482759  46.55172414  56.37931034  47.48275862   7.17241379]\n",
            " [  0.40909091  25.27272727  25.72727273  79.36363636   3.36363636]\n",
            " [  0.64        41.16        79.6         15.16         3.        ]\n",
            " [  0.46428571  32.78571429  78.03571429  81.89285714   4.32142857]\n",
            " [  0.37931034  24.44827586  56.37931034  50.72413793   5.96551724]\n",
            " [  0.3         41.         109.7         22.           1.2       ]\n",
            " [  0.33333333  37.5         29.33333333  34.58333333   4.16666667]\n",
            " [  0.54545455  63.90909091  53.04545455  50.63636364   6.90909091]]\n"
          ]
        }
      ],
      "source": [
        "# In this cell, the clusters haven't been scaled, so the centroids are in the original units\n",
        "# As a result, the centroids are not very interpretable and are very skewed from each other\n",
        "# Create 10 clusters (any number more than 3 is fine)\n",
        "kmeans = KMeans(n_clusters=10)\n",
        "\n",
        "# other arguments can be given here\n",
        "# kmeans = KMeans(n_clusters=4, max_iter=600, algorithm = 'auto')\n",
        "# n_clusters is the number of clusters we want to create\n",
        "# max_iter is the maximum number of iterations there can be to find the final clusters when the K-means algorithm is running.\n",
        "# algorithm is the type of algorithm to be used for the initialisation. The default is 'auto' which decides the most appropriate algorithm to use. The other options are 'full' and 'elkan'. \n",
        "# The 'full' algorithm runs the standard EM-style algorithm. The 'elkan' algorithm is more efficient on data with well-defined clusters, by using the triangle inequality.\n",
        "\n",
        "# Fit the model\n",
        "kmeans.fit(df)\n",
        "\n",
        "# Get the cluster centroids\n",
        "print(kmeans.cluster_centers_)"
      ]
    },
    {
      "cell_type": "code",
      "execution_count": 16,
      "metadata": {
        "id": "8dMzk0iN1uRg"
      },
      "outputs": [],
      "source": [
        "centroids = kmeans.cluster_centers_"
      ]
    },
    {
      "cell_type": "code",
      "execution_count": 17,
      "metadata": {
        "colab": {
          "base_uri": "https://localhost:8080/"
        },
        "id": "qxcuMOiK1xg3",
        "outputId": "074bd05a-2bf3-436e-c066-d1b967466cf0"
      },
      "outputs": [
        {
          "data": {
            "text/plain": [
              "array([-0.88640526, -0.82859324, -0.0960542 , -0.13098057,  0.62534123])"
            ]
          },
          "execution_count": 17,
          "metadata": {},
          "output_type": "execute_result"
        }
      ],
      "source": [
        "centroids[3]"
      ]
    },
    {
      "cell_type": "code",
      "execution_count": 18,
      "metadata": {
        "colab": {
          "base_uri": "https://localhost:8080/"
        },
        "id": "hcQ2qBxAzU1E",
        "outputId": "6c4fcc73-804b-4a5b-e94d-25dca6c3e79d"
      },
      "outputs": [
        {
          "name": "stdout",
          "output_type": "stream",
          "text": [
            "[6 6 8 5 8 5 8 5 4 5 4 5 8 5 4 6 8 6 4 5 6 6 8 6 8 6 8 6 8 5 4 5 4 6 8 5 8\n",
            " 5 8 5 1 6 4 5 8 5 1 3 3 3 1 6 3 4 1 4 1 4 3 4 4 6 1 1 4 6 1 1 6 3 4 1 1 1\n",
            " 4 6 1 4 3 1 4 6 4 1 3 4 1 3 3 1 1 6 4 1 3 6 1 3 4 6 3 1 4 6 4 3 1 4 4 4 4\n",
            " 3 3 6 3 3 1 1 1 1 6 3 3 0 3 9 7 0 4 0 7 0 3 9 7 9 2 0 7 9 2 0 3 9 7 0 7 9\n",
            " 2 0 7 0 2 9 2 9 7 9 7 9 1 9 7 9 7 9 7 9 2 0 7 0 7 0 2 9 7 0 7 0 2 9 7 9 2\n",
            " 0 2 0 2 9 2 9 7 9 2 9 2 0 7 0]\n"
          ]
        }
      ],
      "source": [
        "# Get the labels\n",
        "print(kmeans.labels_)\n",
        "\n",
        "# we have 4 unique labels (0, 1, 2, 3), matching the 4 clusters we created [This applies to a 4 cluster example]\n",
        "# we have 10 unique labels (0, 1, 2, 3, 4, 5, 6, 7, 8, 9), matching the 10 clusters we created [This applies to a 10 cluster example]"
      ]
    },
    {
      "cell_type": "code",
      "execution_count": 19,
      "metadata": {
        "colab": {
          "base_uri": "https://localhost:8080/",
          "height": 206
        },
        "id": "hUDJNyMgzU1F",
        "outputId": "15f59cc7-3d4b-435b-9c9c-d4b796ba2c02"
      },
      "outputs": [
        {
          "data": {
            "text/html": [
              "<div>\n",
              "<style scoped>\n",
              "    .dataframe tbody tr th:only-of-type {\n",
              "        vertical-align: middle;\n",
              "    }\n",
              "\n",
              "    .dataframe tbody tr th {\n",
              "        vertical-align: top;\n",
              "    }\n",
              "\n",
              "    .dataframe thead th {\n",
              "        text-align: right;\n",
              "    }\n",
              "</style>\n",
              "<table border=\"1\" class=\"dataframe\">\n",
              "  <thead>\n",
              "    <tr style=\"text-align: right;\">\n",
              "      <th></th>\n",
              "      <th>Gender</th>\n",
              "      <th>Age</th>\n",
              "      <th>Annual Income (k$)</th>\n",
              "      <th>Spending Score (1-100)</th>\n",
              "      <th>labels</th>\n",
              "    </tr>\n",
              "  </thead>\n",
              "  <tbody>\n",
              "    <tr>\n",
              "      <th>0</th>\n",
              "      <td>1</td>\n",
              "      <td>19</td>\n",
              "      <td>15</td>\n",
              "      <td>39</td>\n",
              "      <td>6</td>\n",
              "    </tr>\n",
              "    <tr>\n",
              "      <th>1</th>\n",
              "      <td>1</td>\n",
              "      <td>21</td>\n",
              "      <td>15</td>\n",
              "      <td>81</td>\n",
              "      <td>6</td>\n",
              "    </tr>\n",
              "    <tr>\n",
              "      <th>2</th>\n",
              "      <td>0</td>\n",
              "      <td>20</td>\n",
              "      <td>16</td>\n",
              "      <td>6</td>\n",
              "      <td>8</td>\n",
              "    </tr>\n",
              "    <tr>\n",
              "      <th>3</th>\n",
              "      <td>0</td>\n",
              "      <td>23</td>\n",
              "      <td>16</td>\n",
              "      <td>77</td>\n",
              "      <td>5</td>\n",
              "    </tr>\n",
              "    <tr>\n",
              "      <th>4</th>\n",
              "      <td>0</td>\n",
              "      <td>31</td>\n",
              "      <td>17</td>\n",
              "      <td>40</td>\n",
              "      <td>8</td>\n",
              "    </tr>\n",
              "  </tbody>\n",
              "</table>\n",
              "</div>"
            ],
            "text/plain": [
              "   Gender  Age  Annual Income (k$)  Spending Score (1-100)  labels\n",
              "0       1   19                  15                      39       6\n",
              "1       1   21                  15                      81       6\n",
              "2       0   20                  16                       6       8\n",
              "3       0   23                  16                      77       5\n",
              "4       0   31                  17                      40       8"
            ]
          },
          "execution_count": 19,
          "metadata": {},
          "output_type": "execute_result"
        }
      ],
      "source": [
        "# Add the labels to the dataframe\n",
        "df['labels'] = kmeans.labels_\n",
        "df.head()"
      ]
    },
    {
      "cell_type": "code",
      "execution_count": 20,
      "metadata": {
        "colab": {
          "base_uri": "https://localhost:8080/"
        },
        "id": "M-7VX_fD2Wj4",
        "outputId": "757522e4-acd1-46fe-dada-b71d1af58a9b"
      },
      "outputs": [
        {
          "data": {
            "text/plain": [
              "4    28\n",
              "1    27\n",
              "6    23\n",
              "3    23\n",
              "9    21\n",
              "7    19\n",
              "0    18\n",
              "5    14\n",
              "2    14\n",
              "8    13\n",
              "Name: labels, dtype: int64"
            ]
          },
          "execution_count": 20,
          "metadata": {},
          "output_type": "execute_result"
        }
      ],
      "source": [
        "# Now we show the frequency of each label\n",
        "df['labels'].value_counts()"
      ]
    },
    {
      "cell_type": "code",
      "execution_count": 21,
      "metadata": {
        "colab": {
          "base_uri": "https://localhost:8080/"
        },
        "id": "exBz_UoX3F3u",
        "outputId": "b6afd508-0407-4dbb-b3d0-955d7f09eb7c"
      },
      "outputs": [
        {
          "data": {
            "text/plain": [
              "array([19, 21, 20, 23, 31, 22, 35, 64, 30, 67, 58, 24, 37, 52, 25, 46, 54,\n",
              "       29, 45, 40, 60, 53, 18, 49, 42, 36, 65, 48, 50, 27, 33, 59, 47, 51,\n",
              "       69, 70, 63, 43, 68, 32, 26, 57, 38, 55, 34, 66, 39, 44, 28, 56, 41],\n",
              "      dtype=int64)"
            ]
          },
          "execution_count": 21,
          "metadata": {},
          "output_type": "execute_result"
        }
      ],
      "source": [
        "df['Age'].unique()"
      ]
    },
    {
      "cell_type": "markdown",
      "metadata": {
        "id": "gg6Ur92vzU1G"
      },
      "source": [
        "Additional"
      ]
    },
    {
      "cell_type": "code",
      "execution_count": 22,
      "metadata": {
        "colab": {
          "base_uri": "https://localhost:8080/",
          "height": 279
        },
        "id": "cSveRvYszU1H",
        "outputId": "81e92d57-108c-4036-fb7b-e3a8fc8e41fd"
      },
      "outputs": [
        {
          "data": {
            "image/png": "[encoded data removed]",
            "text/plain": [
              "<Figure size 640x480 with 1 Axes>"
            ]
          },
          "metadata": {},
          "output_type": "display_data"
        }
      ],
      "source": [
        "# Plot original data\n",
        "plt.scatter(df['Annual Income (k$)'], df['Spending Score (1-100)'])\n",
        "plt.xlabel('Annual Income (k$)')\n",
        "plt.ylabel('Spending Score (1-100)')\n",
        "plt.show()"
      ]
    },
    {
      "cell_type": "code",
      "execution_count": 23,
      "metadata": {
        "colab": {
          "base_uri": "https://localhost:8080/",
          "height": 295
        },
        "id": "YXoSjEKwzU1H",
        "outputId": "bad97894-c015-4152-ea4f-9174a445f715"
      },
      "outputs": [
        {
          "data": {
            "image/png": "[encoded data removed]",
            "text/plain": [
              "<Figure size 640x480 with 1 Axes>"
            ]
          },
          "metadata": {},
          "output_type": "display_data"
        }
      ],
      "source": [
        "\n",
        "# Plot the clusters\n",
        "sns.scatterplot(x='Annual Income (k$)', y='Spending Score (1-100)', data=df, hue='labels', palette='Set1')\n",
        "plt.title('Clusters of customers')\n",
        "plt.xlabel('Annual Income (k$)')\n",
        "plt.ylabel('Spending Score (1-100)')\n",
        "plt.show()"
      ]
    }
  ],
  "metadata": {
    "colab": {
      "provenance": [],
      "toc_visible": true
    },
    "kernelspec": {
      "display_name": "Python 3.9.13 64-bit",
      "language": "python",
      "name": "python3"
    },
    "language_info": {
      "codemirror_mode": {
        "name": "ipython",
        "version": 3
      },
      "file_extension": ".py",
      "mimetype": "text/x-python",
      "name": "python",
      "nbconvert_exporter": "python",
      "pygments_lexer": "ipython3",
      "version": "3.9.13"
    },
    "orig_nbformat": 4,
    "vscode": {
      "interpreter": {
        "hash": "329c62c3aef5c4ef86f435c2e2d159935916720ab781e825cd471833c4520a1c"
      }
    }
  },
  "nbformat": 4,
  "nbformat_minor": 0
}
